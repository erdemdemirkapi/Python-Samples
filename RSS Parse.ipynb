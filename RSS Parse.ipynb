{
 "cells": [
  {
   "cell_type": "code",
   "execution_count": 1,
   "metadata": {},
   "outputs": [],
   "source": [
    "import feedparser\n",
    "import html.parser"
   ]
  },
  {
   "cell_type": "code",
   "execution_count": 2,
   "metadata": {},
   "outputs": [],
   "source": [
    "url = \"http://www.cnnturk.com/feed/rss/news\"\n",
    "NewsFeed = feedparser.parse(url)"
   ]
  },
  {
   "cell_type": "code",
   "execution_count": 3,
   "metadata": {
    "scrolled": true
   },
   "outputs": [
    {
     "name": "stdout",
     "output_type": "stream",
     "text": [
      "Elazığ imsakiyesi 2019: Diyanet Elazığ iftar saati, imsak ve sahur vakti\n",
      "Ordu imsakiyesi 2019: Diyanet Ordu iftar saati, imsak, sahur vakti cnnturk.com’da!\n",
      "Hava Durumu (07-05-2019)\n",
      "Rize imsakiyesi 2019: Diyanet Rize iftar saati, imsak, sahur vakti cnnturk.com’da!\n",
      "Edirne imsakiyesi 2019: Diyanet Edirne iftar saati, imsak, sahur vakti cnnturk.com’da!\n",
      "Çanakkale imsakiyesi 2019: Diyanet Çanakkale iftar saati, imsak ve sahur vakti\n",
      "Alışverişte yeni dönem! Artık ücretsiz\n",
      "Son dakika... Cumhurbaşkanı Erdoğan'dan önemli açıklamalar\n",
      "Balıkesirspor'un 6 puanı silindi\n",
      "Mustafa Cengiz'den Ali Koç'a imalı yanıt\n",
      "Liverpool'a Barcelona maçı öncesi iki kötü haber\n",
      "Rumlardan, Fatih sondaj gemisi personeline 'tutuklama' tehdidi!\n",
      "YSK, İstanbul seçimine itirazı görüşmek için toplandı\n",
      "Erol Sayan beyin kanaması geçirdi\n",
      "ALES soru ve cevapları yayınlandı mı? İşte ALES sonuç tarihi\n",
      "Çocuklarının gözü önünde karısını baltayla öldürdü\n",
      "Bilinç bulanıklığı ve konuşma bozukluğu, inme belirtisi olabilir\n",
      "Türkiye Diyanet Vakfı'ndan kitap fuarı açıklaması\n",
      "Nijer'de korkunç patlama: 55 ölü\n",
      "YSK, AK Parti'nin ek itirazını da reddetti\n",
      "Teravih namazı kaç rekattır, nasıl kılınır? (Diyanet bilgisi)\n",
      "Eski ÖSYM Başkanı Demir'in adli kontrolü kaldırıldı: Yurt dışına çıkış yasağı sürüyor\n",
      "Batıkent'te köpeklerin öldürülmesine dava: En az 5 yıl 4'er ay hapis istemi\n",
      "13 yıl önce kaybolan kadın cinayete kurban gitmiş\n",
      "Çankaya Köşkü'nde kritik görüşme\n",
      "Son dakika... Dışişleri Bakanlığı'ndan ABD'nin Doğu Akdeniz açıklamasına tepki\n",
      "Gelinim Mutfakta puan durumu: 6 Mayıs gün birincisi kim oldu?\n",
      "AK Parti YSK Temsilcisi Recep Özel: Gelen raporlarla YSK yanıltılmak istendi\n",
      "Yıkanmak (banyo yapmak) orucu bozar mı? İşte Diyanet’in açıklaması\n",
      "Şehit Er Ercan Can toprağa verildi\n",
      "Hamile kadın bıçakla öldürüldü\n",
      "Sokak köpeğine şiddete 6 bin lira ceza\n",
      "\"Askeri casusluk\" savcısı Kılınç'ın yargılanmasına devam edildi\n",
      "Marmaray Banliyö hattı ile birleşti geliri tavan yaptı\n",
      "Ankara'da TOKİ konutları için kura heyecanı\n"
     ]
    }
   ],
   "source": [
    "for entry in NewsFeed.entries:    \n",
    "    entry.title = html.parser.unescape(entry.title)\n",
    "    print(entry.title)"
   ]
  }
 ],
 "metadata": {
  "kernelspec": {
   "display_name": "Python 3",
   "language": "python",
   "name": "python3"
  },
  "language_info": {
   "codemirror_mode": {
    "name": "ipython",
    "version": 3
   },
   "file_extension": ".py",
   "mimetype": "text/x-python",
   "name": "python",
   "nbconvert_exporter": "python",
   "pygments_lexer": "ipython3",
   "version": "3.7.3"
  }
 },
 "nbformat": 4,
 "nbformat_minor": 2
}
