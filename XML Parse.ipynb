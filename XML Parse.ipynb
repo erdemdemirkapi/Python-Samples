{
 "cells": [
  {
   "cell_type": "code",
   "execution_count": 1,
   "metadata": {},
   "outputs": [],
   "source": [
    "from bs4 import BeautifulSoup"
   ]
  },
  {
   "cell_type": "code",
   "execution_count": 2,
   "metadata": {},
   "outputs": [],
   "source": [
    "infile = open(\"rss.xml\",\"r\")\n",
    "contents = infile.read()\n",
    "soup = BeautifulSoup(contents, 'xml')\n",
    "titles = soup.find_all('title')"
   ]
  },
  {
   "cell_type": "code",
   "execution_count": 3,
   "metadata": {},
   "outputs": [
    {
     "name": "stdout",
     "output_type": "stream",
     "text": [
      "Onedio Rss\n",
      "Onedio Rss\n",
      "Yüzünüzde Gülümseme Bırakabilecek Sporla İlgili Yapılan Haftanın En Komik 15 Paylaşımı\n",
      "Dolu Dolu Kahkaha Atacağınız Keyfinizi Tavana Vurma Garantisi Veren 14 Komik Olay\n",
      "Bir Hafta Boyunca Ünlüleri Mizahına Alet Ederek Güldüren 15 Kişi\n",
      "Ne Kadar Anlamsız Olurlarsa Olsun, Her Seferinde İnanılmaz Zevk Veren 25 Garip Şey\n",
      "Night King'i Canlandıran Vladimír Furdík'in Gerçek Hayatta Nasıl Göründüğünü Biliyor musunuz?\n",
      "Bunlar Nasıl Kafalar? İnsanların Facebook'ta Sattıkları Hayrete Düşüren Garip Şeyler\n",
      "Televizyon Dünyasıyla İlgili Attıkları Komik Tweetlerle Hafta Boyunca Güldüren 13 Kişi\n",
      "İnternetteki Ata Sporumuz Olan Yorum Yapma Sanatının Bu Haftaki Altın Madalyalık 15 Temsilcisi\n",
      "Aile Üyelerini Goygoylarına Alet Eden Mizahşörlerden Haftanın En Eğlenceli 19 Paylaşımı\n",
      "Yaptıkları Garip Hareketlerle Nişanlılarına Evlilik Kararını Sorgulatan 17 Patavatsız Kişi\n",
      "Son Zamanlarda Sosyal Medya Kullanıcılarını Meşgul Etmeyi Başarmış Birbirinden Değişik 13 Konu\n",
      "Her Ne Yapıyorsanız Bırakıp Okumanız Gereken Haftanın En Komik 21 Tweeti\n",
      "Yıllardır Sanki Bir Büyüyle Hayatımızda Bulunan, Geçmişi Film Şeridi Gibi Gözlerimizin Önünden Geçirecek 15 Nesne\n",
      "Esra Erol Kıskanır! 'Evde Kalmış' Çocuklarının Cv'lerini Pazarda Sergileyerek Gelin ve Damat Arayan Çinli Aileler\n",
      "Gerçek Kesit: Metresiyle Mutlu Olan Babasını Çekemeyen Hayalet Hacer'in Yediği Haltlar\n",
      "Kandırılıyor muyuz Yoksa? O Muhteşem Instagram Fotoğraflarının Arkasındaki Sırrı Gösteren 20 Kare\n",
      "Fotoğraf ve Videolarla Geçmişlerine Ait Garip Anlarını Ölümsüzleştiren Kişilerden Birbirinden Eğlenceli 15 Paylaşım\n",
      "Gördüğünüz Andan İtibaren Gençliğinizinden 20 Yılı Çalıp Götürecek Birbirinden Acayip Görseller\n",
      "İnsan Kullanmaya Kıyamaz! Dünyanın Çeşitli Yerlerinden Adeta Instagram'a Atılası İlginç 15 Tuvalet\n",
      "Ünlülerle İlgili Haberleri Ti'ye Alarak Dev Kahkahalar Attıran Paylaşımlara İmza Atmış 15 Kişi\n",
      "İlişkilerinize Eğlenceli Bir Boyuttan Bakmanızı Sağlayacak Bol Kahkaha Garantili 14 Paylaşım\n",
      "Üzerine Yazılmış Mini Hikayelerle İnsana Bir Karikatür Dergisi Okuyormuş Hissi Verebilecek Birbirinden Eğlenceli 19 Paylaşım\n",
      "Geçmiş Dönemlere Ait Çizimlere Yaptıkları Eklemelerle Eğlencenin Dibini Sıyırmış Kişilerden 15 Paylaşım\n",
      "Durumlara Verdiği Komik Tepkilerle Instagram'ı Sallayan Fenomen Burak Altındağ'dan 15 Paylaşım\n",
      "Vedat Milor'un Sorduğu Gastronomik Soruya Gelen Birbirinden Tuhaf Yanıtlar\n"
     ]
    }
   ],
   "source": [
    "for title in titles:\n",
    "    print(title.get_text())"
   ]
  }
 ],
 "metadata": {
  "kernelspec": {
   "display_name": "Python 3",
   "language": "python",
   "name": "python3"
  },
  "language_info": {
   "codemirror_mode": {
    "name": "ipython",
    "version": 3
   },
   "file_extension": ".py",
   "mimetype": "text/x-python",
   "name": "python",
   "nbconvert_exporter": "python",
   "pygments_lexer": "ipython3",
   "version": "3.7.3"
  }
 },
 "nbformat": 4,
 "nbformat_minor": 2
}
